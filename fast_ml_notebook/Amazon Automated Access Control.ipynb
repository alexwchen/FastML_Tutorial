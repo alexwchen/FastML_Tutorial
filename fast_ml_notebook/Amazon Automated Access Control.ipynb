{
 "metadata": {
  "name": "Amazon Automated Access Control"
 },
 "nbformat": 3,
 "nbformat_minor": 0,
 "worksheets": [
  {
   "cells": [
    {
     "cell_type": "markdown",
     "metadata": {},
     "source": [
      "# Amazon Automated Access Control\n",
      "See [http://fastml.com/amazon-aspires-to-automate-access-control/](http://fastml.com/amazon-aspires-to-automate-access-control/) for description."
     ]
    },
    {
     "cell_type": "markdown",
     "metadata": {},
     "source": [
      "auc.py - compute AUC for a validation set\n",
      "\n",
      "csv2vw.py - convert original CSV to VW format\n",
      "\n",
      "vw2sub.py - convert VW predictions to a submission format"
     ]
    },
    {
     "cell_type": "markdown",
     "metadata": {},
     "source": [
      "### 1.1 Convert Files\n",
      "(.csv -> .vw) Convert train.csv & test.csv to train.vw & test.vw"
     ]
    },
    {
     "cell_type": "raw",
     "metadata": {},
     "source": [
      "csv2vw.py train.csv train.vw\n",
      "csv2vw.py test.csv test.vw"
     ]
    },
    {
     "cell_type": "markdown",
     "metadata": {},
     "source": [
      "#### ACTION is what we are trying to predict, wether granting access or not. (train.csv)"
     ]
    },
    {
     "cell_type": "raw",
     "metadata": {},
     "source": [
      "ACTION,RESOURCE,MGR_ID,ROLE_ROLLUP_1,ROLE_ROLLUP_2,ROLE_DEPTNAME,ROLE_TITLE,ROLE_FAMILY_DESC,ROLE_FAMILY,ROLE_CODE\n",
      "1,39353,85475,117961,118300,123472,117905,117906,290919,117908\n",
      "1,17183,1540,117961,118343,123125,118536,118536,308574,118539\n",
      "1,36724,14457,118219,118220,117884,117879,267952,19721,117880\n",
      "1,36135,5396,117961,118343,119993,118321,240983,290919,118322\n",
      "1,42680,5905,117929,117930,119569,119323,123932,19793,119325\n",
      "0,45333,14561,117951,117952,118008,118568,118568,19721,118570\n",
      "1,25993,17227,117961,118343,123476,118980,301534,118295,118982"
     ]
    },
    {
     "cell_type": "markdown",
     "metadata": {},
     "source": [
      "### 1.2 Train with online learning\n",
      "Gradient Descent - Logistic Loss Function\n",
      "\n",
      "-d train.vw : Specify data file.\n",
      "    \n",
      "-c file_name : Specify cache file, If didn't specify, Cache file will have default name\n",
      "    \n",
      "-f model_file : Trained model. model_file contains the trained model para.\n",
      "    \n",
      "--loss_function logistic : use logistic function as loss function.\n",
      "    \n",
      "--passes 10 : 10 threads\n",
      "\n",
      "#### vw -d train.vw -c -k -f model --loss_function logistic --passes 10"
     ]
    },
    {
     "cell_type": "raw",
     "metadata": {},
     "source": [
      "final_regressor = model\n",
      "Num weight bits = 18\n",
      "learning rate = 0.5\n",
      "initial_t = 0\n",
      "power_t = 0.5\n",
      "decay_learning_rate = 1\n",
      "creating cache_file = train.vw.cache\n",
      "Reading datafile = train.vw\n",
      "num sources = 1\n",
      "average    since         example     example  current  current  current\n",
      "loss       last          counter      weight    label  predict features\n",
      "0.624364   0.624364            3         3.0   1.0000   0.1981        9\n",
      "0.631327   0.638289            6         6.0  -1.0000   0.4810        9\n",
      "0.520926   0.388446           11        11.0   1.0000   1.2333        9\n",
      "0.400737   0.280548           22        22.0   1.0000   1.9233        9\n",
      "0.345557   0.290377           44        44.0   1.0000   1.8548        9\n",
      "0.304547   0.262582           87        87.0   1.0000   2.8049        9\n",
      "0.301188   0.297829          174       174.0   1.0000   3.0535        9\n",
      "0.286285   0.271382          348       348.0   1.0000   2.6957        9\n",
      "0.249120   0.211955          696       696.0   1.0000   3.8945        9\n",
      "0.239662   0.230204         1392      1392.0  -1.0000   3.0467        9\n",
      "0.225099   0.210536         2784      2784.0   1.0000   3.7896        9\n",
      "0.206387   0.187675         5568      5568.0  -1.0000   3.3753        9\n",
      "0.198000   0.189612        11135     11135.0  -1.0000   2.0410        9\n",
      "0.187934   0.177867        22269     22269.0   1.0000   2.6882        9\n",
      "0.167171   0.146407        44537     44537.0   1.0000   4.6528        9\n",
      "0.146607   0.126044        89073     89073.0   1.0000   2.6663        9\n",
      "0.125771   0.104935       178146    178146.0   1.0000   5.0508        9\n",
      "\n",
      "finished run\n",
      "number of examples = 327690\n",
      "weighted example sum = 327690\n",
      "weighted label sum = 289750\n",
      "average loss = 0.109395\n",
      "best constant = 0.88422\n",
      "total feature number = 2949210"
     ]
    },
    {
     "cell_type": "markdown",
     "metadata": {},
     "source": [
      "#### vw -d train.vw -c -k --readable_model model --loss_function logistic --passes 10\n",
      "--readable_model model : gives you a readable model output\n",
      "    \n",
      "#### Amazon Data, numbers like 6, 12 ... are (binary) features, access id or something\""
     ]
    },
    {
     "cell_type": "raw",
     "metadata": {},
     "source": [
      "Version 7.3.0\n",
      "Min label:-50.000000\n",
      "Max label:50.000000\n",
      "bits:18\n",
      "0 pairs: \n",
      "0 triples: \n",
      "rank:0\n",
      "lda:0\n",
      "0 ngram: \n",
      "0 skip: \n",
      "options:\n",
      ":0\n",
      "6:0.148242\n",
      "12:0.123240\n",
      "14:0.309039\n",
      "18:1.543854\n",
      "22:0.726124\n",
      "25:0.286328\n",
      "28:0.537069\n",
      "31:-0.004055\n",
      "35:1.634606\n",
      "39:0.365553\n",
      "47:0.204484\n",
      "49:0.362305\n",
      "52:0.884443\n",
      "55:0.525415\n",
      "57:0.223198\n",
      "64:0.012545\n",
      "71:0.538154\n",
      "74:0.235958\n",
      "76:0.888289\n",
      "79:0.766571\n",
      "85:0.074450\n",
      "89:0.378712\n",
      "96:0.479601\n",
      "99:0.871948\n",
      "102:0.081183\n",
      "106:0.182159\n",
      "119:1.106514\n",
      "121:0.419514\n",
      "136:0.099821"
     ]
    },
    {
     "cell_type": "markdown",
     "metadata": {},
     "source": [
      "### 1.3 Test on test data\n",
      "#### vw -t -d test.vw -i model -p p.txt"
     ]
    },
    {
     "cell_type": "raw",
     "metadata": {},
     "source": [
      "only testing\n",
      "Num weight bits = 18\n",
      "learning rate = 10\n",
      "initial_t = 1\n",
      "power_t = 0.5\n",
      "predictions = p.txt\n",
      "using no cache\n",
      "Reading datafile = test.vw\n",
      "num sources = 1\n",
      "average    since         example     example  current  current  current\n",
      "loss       last          counter      weight    label  predict features\n",
      "12.328474  12.328474           3         3.0   3.0000   7.2712        9\n",
      "8.860377   5.392280            6         6.0   6.0000   6.6205        9\n",
      "18.092649  29.171375          11        11.0  11.0000   4.1981        9\n",
      "99.761756  181.430862         22        22.0  22.0000   5.3934        9\n",
      "488.899885 878.038015         44        44.0  44.0000   6.1627        9\n",
      "2123.959015 3797.042776         87        87.0  87.0000   3.4179        9\n",
      "9354.678959 16585.398903        174       174.0 174.0000   6.2466        9\n",
      "38926.296298 68497.913636        348       348.0 348.0000   3.2066        9\n",
      "158681.652268 278437.008239        696       696.0 696.0000   1.5058        9\n",
      "639996.640183 1121311.628098       1392      1392.0 1392.0000   3.6557        9\n",
      "2572014.034846 4504031.429508       2784      2784.0 2784.0000   2.0428        9\n",
      "10311150.809987 18050287.585129       5568      5568.0 5568.0000   1.7759        9\n",
      "41283051.682623 72260516.036645      11135     11135.0 11135.0000   3.5707        9\n",
      "165210943.577799 289149966.054248      22269     22269.0 22269.0000   8.3540        9\n",
      "660996804.567663 1156804930.056404      44537     44537.0 44537.0000   3.0823        9\n",
      "\n",
      "finished run\n",
      "number of examples = 58921\n",
      "weighted example sum = 58921\n",
      "weighted label sum = 1.73587e+09\n",
      "average loss = 1.15698e+09\n",
      "best constant = 29461.5\n",
      "total feature number = 530289"
     ]
    },
    {
     "cell_type": "markdown",
     "metadata": {},
     "source": [
      "### 1.4 Inspect P.txt (Prediction Result)\n",
      "p = math.tanh( raw_p )\n",
      "the value we see in this file is raw_p, p is the probability we want"
     ]
    },
    {
     "cell_type": "raw",
     "metadata": {},
     "source": [
      "2.156235\n",
      "6.171926\n",
      "7.271250\n",
      "5.587026\n",
      "8.643242\n",
      "6.620466\n",
      "2.804640\n",
      "10.027564\n",
      "2.306455\n",
      "4.248870\n",
      "4.198105\n",
      "3.539458\n",
      "5.382232\n",
      "0.862962\n",
      "2.187047\n",
      "4.225078\n",
      "0.312028\n",
      "1.044864\n",
      "7.194420\n",
      "6.167596\n",
      ".\n",
      ".\n",
      "."
     ]
    },
    {
     "cell_type": "markdown",
     "metadata": {},
     "source": [
      "#### python vw2sub.py p.txt p_sub.txt\n",
      "convert to probability"
     ]
    },
    {
     "cell_type": "raw",
     "metadata": {},
     "source": [
      "id,ACTION\n",
      "1,0.9735535736052328\n",
      "2,0.9999912871287874\n",
      "3,0.9999990332764851\n",
      "4,0.9999719330787006\n",
      "5,0.9999999378264924\n",
      "6,0.9999964472428566\n",
      "7,0.9926993349387191\n",
      "8,0.9999999960987969\n",
      "9,0.9803491917923421\n",
      "10,0.9995922257018262\n",
      "11,0.9995486595003378\n",
      "12,0.9983160467935717\n",
      "13,0.9999577259847209\n",
      "14,0.6977806246259183\n",
      "15,0.9751144423497812\n",
      "16,0.9995723573596588\n",
      "17,0.30228091895702797\n",
      "18,0.7798015572310542\n",
      "19,0.9999988727092644\n",
      "20,0.9999912113479971\n",
      "21,0.9999921784258854\n",
      "22,0.999958659399997\n",
      "23,0.9992379999160301\n",
      "24,0.9988583809352858\n",
      "25,0.9999955214492569\n",
      "26,0.974949244716178\n",
      "27,0.9997207693581937\n",
      ".\n",
      ".\n",
      "."
     ]
    },
    {
     "cell_type": "markdown",
     "metadata": {},
     "source": [
      "### 1.5 Compute AUC (Error Rate)\n",
      "#### python auc.py test.vw p.txt \n",
      "\n",
      "test.vw - test data \n",
      "p.txt - tan value, so tanh will be the correct probability"
     ]
    },
    {
     "cell_type": "raw",
     "metadata": {},
     "source": [
      "AUC: 0.131975560081"
     ]
    },
    {
     "cell_type": "markdown",
     "metadata": {},
     "source": [
      "### 2.1 Neural Net (Automatic Script)\n",
      "####  with 10 hidden units\n",
      "I tried 1 to 100 hidden units, seems like 10 is the best number of hidden units to have"
     ]
    },
    {
     "cell_type": "code",
     "collapsed": false,
     "input": [
      "import os\n",
      "print 'Training'\n",
      "os.system('vw -d train.vw -c -f model_nn --nn 10')\n",
      "print '------------------'\n",
      "print 'Testing'\n",
      "os.system('vw -t -d test.vw -i model_nn -p nn_out.txt')\n",
      "os.system('python auc.py test.vw nn_out.txt > stdout')\n",
      "for line in open('stdout'): print line\n",
      "print '------------------'"
     ],
     "language": "python",
     "metadata": {},
     "outputs": [
      {
       "output_type": "stream",
       "stream": "stdout",
       "text": [
        "Training\n",
        "------------------"
       ]
      },
      {
       "output_type": "stream",
       "stream": "stdout",
       "text": [
        "\n",
        "Testing\n",
        "AUC: 0.0119823489477\n"
       ]
      },
      {
       "output_type": "stream",
       "stream": "stdout",
       "text": [
        "\n",
        "\n",
        "\n",
        "------------------\n"
       ]
      }
     ],
     "prompt_number": 34
    },
    {
     "cell_type": "markdown",
     "metadata": {},
     "source": [
      "### 2.2 Nueral Net with Quadratic Function\n",
      "####  with 10 hidden units"
     ]
    },
    {
     "cell_type": "code",
     "collapsed": false,
     "input": [
      "print 'Training'\n",
      "os.system('vw -d train.vw -f model_nn -q nn > stdout')\n",
      "print '------------------'\n",
      "print 'Testing'\n",
      "os.system('vw -t -d test.vw -i model_nn -p nn_out.txt')\n",
      "os.system('python auc.py test.vw nn_out.txt > stdout')\n",
      "for line in open('stdout'): print line\n",
      "print '------------------'    "
     ],
     "language": "python",
     "metadata": {},
     "outputs": [
      {
       "output_type": "stream",
       "stream": "stdout",
       "text": [
        "Training\n",
        "------------------"
       ]
      },
      {
       "output_type": "stream",
       "stream": "stdout",
       "text": [
        "\n",
        "Testing\n",
        "AUC: 0.0923794976239\n"
       ]
      },
      {
       "output_type": "stream",
       "stream": "stdout",
       "text": [
        "\n",
        "\n",
        "\n",
        "------------------\n"
       ]
      }
     ],
     "prompt_number": 71
    },
    {
     "cell_type": "code",
     "collapsed": false,
     "input": [
      "print 'Training'\n",
      "os.system('vw -d train.vw -f model_nn -cubic nnn')\n",
      "print '------------------'\n",
      "print 'Testing'\n",
      "os.system('vw -t -d test.vw -i model_nn -p nn_out.txt')\n",
      "os.system('python auc.py test.vw nn_out.txt > stdout')\n",
      "for line in open('stdout'): print line\n",
      "print '------------------'    "
     ],
     "language": "python",
     "metadata": {},
     "outputs": [
      {
       "output_type": "stream",
       "stream": "stdout",
       "text": [
        "Training\n",
        "------------------"
       ]
      },
      {
       "output_type": "stream",
       "stream": "stdout",
       "text": [
        "\n",
        "Testing\n",
        "AUC: 0.0923794976239\n"
       ]
      },
      {
       "output_type": "stream",
       "stream": "stdout",
       "text": [
        "\n",
        "\n",
        "\n",
        "------------------\n"
       ]
      }
     ],
     "prompt_number": 62
    },
    {
     "cell_type": "code",
     "collapsed": false,
     "input": [],
     "language": "python",
     "metadata": {},
     "outputs": []
    }
   ],
   "metadata": {}
  }
 ]
}